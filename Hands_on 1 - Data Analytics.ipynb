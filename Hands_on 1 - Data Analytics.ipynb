{
 "cells": [
  {
   "cell_type": "markdown",
   "metadata": {},
   "source": [
    "<div style=\"display:block\" direction=rtl align=right><br><br>\n",
    "    <div  style=\"width:100%;margin:100;display:block\"  display=block align=center>\n",
    "        <img width=130 align=right src=\"https://i.ibb.co/yXKQmtZ/logo1.png\" style=\"margin:0;\" />\n",
    "        <img width=170 align=left  src=\"https://i.ibb.co/wLjqFkw/logo2.png\" style=\"margin:0;\" />\n",
    "        <span><br><font size=5>University of Tehran , school of ECE</font></span>\n",
    "        <span><br><font size=3>Data Analytics Course</font></span>\n",
    "        <span><br><font size=3>Fall 1400</font></span>\n",
    "    </div><br><br><br>\n",
    "    <div style=\"display:block\" align=left display=block> \n",
    "        <font size=3>Hands-on 1</font><br>\n",
    "        <hr />\n",
    "        <font size=3>Is there any <font color=red>؟</font> Question <font color=red>?</font> , Feel free to ask me  <a href=\"mailto:mohammad.nili@ut.ac.ir\">mohammad nili</a> :)))<br></font><br>\n",
    "    </div>\n",
    "</div>"
   ]
  },
  {
   "cell_type": "markdown",
   "metadata": {},
   "source": [
    "<pre>\n",
    "Read / manipulation Data & statistics\n",
    "$ ( click to jump on task )\n",
    ".\n",
    "├── Import Data\n",
    "│   ├── Read Txt\n",
    "│   ├── context manager\n",
    "│   │    ├ <a href=\"#t1\">task 1 - read first 5 line of txt file.</a>\n",
    "│   │    └ <a href=\"#t2\">task 2 - split word of each line.</a>\n",
    "│   └── Flat files\n",
    "│       ├ numpy\n",
    "|       |\n",
    "│       ├ pandas\n",
    "│       | ├ split column\n",
    "│       | ├ slicing/filter\n",
    "│       | | └ <a href=\"#t3\">task 3 - filter by condition </a>\n",
    "│       | └ group\n",
    "|       | \n",
    "│       └ log\n",
    "│         └ <a href=\"#t4\">task 4 - load log data </a>\n",
    "|\n",
    "├── Data Collection\n",
    "│    \n",
    "|   \n",
    "├── Data cleaning\n",
    "│   ├── Data Type  Constraints\n",
    "│   ├── Data Range Constraints\n",
    "│   ├── <a href=\"#t5_2\">task 5_2 - clean data </a>\n",
    "│   ├── Uniqueness Constraints\n",
    "│   ├── Categorical Variables\n",
    "│   ├── Membership Constraints\n",
    "│   ├── Cleaning Text Data\n",
    "│   ├── Uniformity\n",
    "│   ├── Cross field validation\n",
    "│   ├── Completness\n",
    "│   ├── Record Linkage\n",
    "│   |   ├── Generate Pairs\n",
    "│   |   ├── Compare Pairs\n",
    "│   |   ├── Score Pairs\n",
    "│   |   └── Linke Data\n",
    "│   └── <a href=\"#t5\">task 5 - clean data </a>\n",
    "|\n",
    "├── Data statistics\n",
    "│   ├── scipy Vs statsmodels Vs numpy\n",
    "│   ├── Probability Mass Functions (PMF)\n",
    "│   ├── Probability Distribution Functions (PDF)\n",
    "│   ├── Cumulative Distribution Functions (CDF)\n",
    "│   ├── Inverse Cumulative Distribution Functions\n",
    "│   ├── Empirical Cumulative Distribution Functions (ECDF)\n",
    "│   ├── Interquartile Range (IQR)\n",
    "│   ├── <a href=\"https://en.wikipedia.org/wiki/Probability_distribution\"> Distributions </a>\n",
    "│   |   ├── Discrete\n",
    "│   |   |   ├── Uniform\n",
    "│   |   |   ├── Poisson\n",
    "│   |   |   ├── Binomial\n",
    "│   |   |   └── Bernoulli\n",
    "│   |   |\n",
    "│   |   └── Continuous\n",
    "│   |       ├── Uniform\n",
    "│   |       ├── Normal(Gaussian)\n",
    "│   |       └── Exponential\n",
    "│   |   \n",
    "│   └── <a href=\"#t6\">task 6 - statistics </a>\n",
    "|\n",
    "├── Data manipulation\n",
    "|   ├── dtype\n",
    "|   ├── memory_usage\n",
    "│   └── <a href=\"#t7\">task 7 - join tables </a>\n",
    "|\n",
    "├── Exploratory data analysis (EDA)\n",
    "|\n",
    "└── Data visualization\n",
    "    ├── pandas Vs seaborn Vs Bokeh Vs plotly Vs bgplot Vs graphviz Vs ...\n",
    "    ├── Plots\n",
    "    |   ├── Matrix plots\n",
    "    |   |   ├── heatmap\n",
    "    |   |   └── crosstab\n",
    "    |   |   \n",
    "    |   ├── AxesSubplots [only create a single plot]\n",
    "    |   |   ├── Univariate\n",
    "    |   |   |   ├── histogram\n",
    "    |   |   |   ├── distplot\n",
    "    |   |   |   ├── rugplot\n",
    "    |   |   |   └── kdeplot (kernel density estimator)\n",
    "    |   |   ├── scatterplot\n",
    "    |   |   ├── lineplot\n",
    "    |   |   ├── pointplot        \n",
    "    |   |   ├── residplot\n",
    "    |   |   ├── barplot (horizontal/vertical/stacked)\n",
    "    |   |   ├── countplot [for categorical] \n",
    "    |   |   ├── regplot\n",
    "    |   |   ├── swarmplot\n",
    "    |   |   ├── boxplot\n",
    "    |   |   ├── violinplot\n",
    "    |   |   └── letter value (LV) plot\n",
    "    |   |   \n",
    "    |   └── Facetgrid [can create subplots] [faceting]\n",
    "    |       ├── factorplot\n",
    "    |       ├── lmplot\n",
    "    |       ├── PairGrid/pairplot\n",
    "    |       ├── JointGrid/jointplot\n",
    "    |       ├── relplot (relational) [col , row] [for categorical]\n",
    "    |       └── catplot [col , row] [for categorical]\n",
    "    |       \n",
    "    ├── jitter/alpha/marker/swarmplot\n",
    "    └── <a href=\"#t8\">task 8 - plot data </a>\n",
    "\n",
    "</pre>\n",
    "\n",
    "\n",
    "\n",
    "<!-- <hr />\n",
    "<font color=red size=5 id=\"task_1\">Tasks Hyperlink </font> ( click to jump )\n",
    "\n",
    "<a href=\"#t1\">task 1 - read first 5 line of txt file.</a><br>\n",
    "<a href=\"#t2\">task 2 - split word of each line.</a><br>\n",
    "<a href=\"#t3\">task 3 - filter by condition</a><br>\n",
    "<a href=\"#t4\">task 4 - load log data </a><br>\n",
    "<a href=\"#t5\">task 5 - clean data </a><br>\n",
    "<a href=\"#t6\">task 6 - statistics </a><br>\n",
    "<a href=\"#t7\">task 7 - joind tables </a><br>\n",
    "<a href=\"#t8\">task 8 - plot data </a><br>\n",
    " -->"
   ]
  },
  {
   "cell_type": "markdown",
   "metadata": {},
   "source": [
    "<hr>"
   ]
  },
  {
   "cell_type": "markdown",
   "metadata": {},
   "source": [
    "<font color=green>Use :</font> ``` ! conda install pandas numpy matplotlib ```\n",
    "\n",
    "<font color=red>Don't use :</font> ``` ! pip install pandas numpy matplotlib ```"
   ]
  },
  {
   "cell_type": "code",
   "execution_count": 116,
   "metadata": {},
   "outputs": [],
   "source": [
    "import pandas as pd\n",
    "import numpy as np\n",
    "import matplotlib.pyplot as plt\n",
    "import datetime"
   ]
  },
  {
   "cell_type": "markdown",
   "metadata": {},
   "source": [
    "<hr />"
   ]
  },
  {
   "cell_type": "markdown",
   "metadata": {},
   "source": [
    "![image.png](https://files.realpython.com/media/Reading-and-Writing-Data-With-Pandas_Watermarked.435ef1c38466.jpg)"
   ]
  },
  {
   "cell_type": "markdown",
   "metadata": {},
   "source": [
    "# Import Data \n",
    "- Flat files, <font color=green>(e.g :txt,csv)</font>\n",
    "- Files from other software <font color=green>(e.g :Matlab)</font>\n",
    "- Relational databases <font color=green>(e.g :PostgreSQL,MySQL,SQLite)</font>\n",
    "\n",
    "[Pandas I/O tools](https://pandas.pydata.org/pandas-docs/stable/user_guide/io.html)<br>\n",
    "[numpy I/O tools](https://numpy.org/doc/stable/reference/routines.io.html)"
   ]
  },
  {
   "cell_type": "markdown",
   "metadata": {},
   "source": [
    "## Read Txt file : "
   ]
  },
  {
   "cell_type": "code",
   "execution_count": 2,
   "metadata": {},
   "outputs": [
    {
     "name": "stdout",
     "output_type": "stream",
     "text": [
      "This eBook is for the use of anyone anywhere in the United States and\n",
      "most other parts of the world at no cost and with almost no restrictions\n",
      "whatsoever.\n",
      "\n",
      "Title: The Great Gatsby\n",
      "\n",
      "Author: F. Scott Fitzgerald\n",
      "\n",
      "Release Date: January 17, 2021 [eBook #64317]\n",
      "[Most recently updated: January 24 2021]\n",
      "\n",
      "Language: English\n",
      "\n",
      "Character set encoding: UTF-8\n",
      "\n",
      "Produced by: Alex Cabal for the Standard Ebooks project, based on a\n",
      "             transcription produced for Project Gutenberg Australia.\n",
      "\n"
     ]
    }
   ],
   "source": [
    "filename = 'The_Great_Gatsby.txt'\n",
    "file = open(filename , mode='r') # 'r' is for read\n",
    "text = file.read()\n",
    "file.close()\n",
    "print(text)"
   ]
  },
  {
   "cell_type": "markdown",
   "metadata": {},
   "source": [
    "## Read Text file [ use Context manager ]\n",
    "- To avoid having close the connection to the file use Context manager"
   ]
  },
  {
   "cell_type": "markdown",
   "metadata": {},
   "source": [
    "<hr />\n",
    "<font color=orange size=5>Golden Hints</font>\n",
    "\n",
    "- use ```dir(your_object)``` to see list of built in methods of your object. \n",
    "\n",
    "><font color=green>e.g : </font>\n",
    "`with open(filename , mode='r') as file:` <br>\n",
    "&emsp;&emsp;&emsp;&emsp;`print(dir(file))`\n",
    "\n",
    "- use `help(method)` or `help(instance)` to see __doc__ (doc string) \n",
    "\n",
    "><font color=green>e.g :</font> `help(dir)`\n",
    "\n",
    "<hr />"
   ]
  },
  {
   "cell_type": "markdown",
   "metadata": {},
   "source": [
    "<hr />\n",
    "<font color=red size=5 id=\"t1\"> Task 1 :</font>\n",
    "\n",
    "Fill below code by using ```print(file.readline())``` or ```print(file.read())``` or ```print(file.readlines())``` to read first 5 line"
   ]
  },
  {
   "cell_type": "code",
   "execution_count": null,
   "metadata": {},
   "outputs": [],
   "source": [
    "with open(filename , mode='r') as file:\n",
    "    ..."
   ]
  },
  {
   "cell_type": "markdown",
   "metadata": {},
   "source": [
    "<hr />\n",
    "<font color=red size=5 id=\"t2\"> Task 2 :</font>\n",
    "\n",
    "Fill below code by using ```.split()``` built in method to split each line to words"
   ]
  },
  {
   "cell_type": "code",
   "execution_count": null,
   "metadata": {},
   "outputs": [],
   "source": [
    "with open(filename , mode='r') as file:\n",
    "    lines = file.readlines()\n",
    "    print(f\"text file contain {len(lines)} lines \\n\\n\")\n",
    "    \n",
    "    for ... in ... :\n",
    "        ..."
   ]
  },
  {
   "cell_type": "markdown",
   "metadata": {},
   "source": [
    "<hr />"
   ]
  },
  {
   "cell_type": "markdown",
   "metadata": {},
   "source": [
    "## Non Flat files example  : \n",
    "> - spreadsheet consisting of many sheets, not a single table. (<font color=green>e.g : xlsx </font>)\n",
    "> - Relational databases (<font color=green>e.g : PostgreSQL </font>)\n",
    "\n",
    "## Flat files\n",
    "> is a basic text file containing records, that is table data , without structured relationships. <br>\n",
    "> consists of a single table of data"
   ]
  },
  {
   "cell_type": "markdown",
   "metadata": {},
   "source": [
    "### Import flat files by numpy"
   ]
  },
  {
   "cell_type": "markdown",
   "metadata": {},
   "source": [
    "<font color=green>e.g :</font>\n",
    "\n",
    "``` np.loadtxt(filename,delimiter='\\t',skiprows=1) ```\n",
    "\n",
    "``` np.recfromcsv(filename,delimiter=',') ```\n",
    "\n",
    "``` np.genfromtxt(filename,delimiter=',',names=True,dtype=None) ```"
   ]
  },
  {
   "cell_type": "markdown",
   "metadata": {},
   "source": [
    "### Import flat files by pandas"
   ]
  },
  {
   "cell_type": "code",
   "execution_count": 3,
   "metadata": {},
   "outputs": [],
   "source": [
    "filename = 'country_vaccinations.csv'\n",
    "data = pd.read_csv(filename, parse_dates=[\"date\"])"
   ]
  },
  {
   "cell_type": "code",
   "execution_count": 228,
   "metadata": {
    "scrolled": true
   },
   "outputs": [],
   "source": [
    "ir = data[data['country']=='Iran']"
   ]
  },
  {
   "cell_type": "markdown",
   "metadata": {},
   "source": [
    "<hr />\n",
    "<font color=red size=5 id=\"t2_\"> Task 1_2 :</font>\n",
    "\n",
    "- show first  one row\n",
    "- show last   one row\n",
    "- show random one row"
   ]
  },
  {
   "cell_type": "code",
   "execution_count": null,
   "metadata": {},
   "outputs": [],
   "source": [
    "ir.______(1)"
   ]
  },
  {
   "cell_type": "code",
   "execution_count": null,
   "metadata": {},
   "outputs": [],
   "source": [
    "ir.______(1)"
   ]
  },
  {
   "cell_type": "code",
   "execution_count": null,
   "metadata": {},
   "outputs": [],
   "source": [
    "ir.______(1)"
   ]
  },
  {
   "cell_type": "markdown",
   "metadata": {},
   "source": [
    "#### split date column :"
   ]
  },
  {
   "cell_type": "markdown",
   "metadata": {},
   "source": [
    "<hr />\n",
    "<font color=red size=5 id=\"t2_\"> Task 2_2 :</font>\n",
    "\n",
    "Use on of below code to split month from date column\n",
    "\n",
    "`data['date'].dt.strftime('%m')`\n",
    "\n",
    "`data['date'].str.split('-',expand=True)[1]`"
   ]
  },
  {
   "cell_type": "code",
   "execution_count": 227,
   "metadata": {},
   "outputs": [],
   "source": [
    "data['month'] = ______________________________\n",
    "data.head(1)"
   ]
  },
  {
   "cell_type": "markdown",
   "metadata": {},
   "source": [
    "#### filter data : \n",
    "\n",
    "> by using `dir(data)` we can find some useful methods :\n",
    "> - loc\n",
    "> - iloc\n",
    "> - where\n",
    "> - filter\n",
    "> - query\n",
    "> - take\n",
    "> - tail\n",
    "> - head\n",
    "> - sample\n",
    "> - pop\n",
    "> - nlargest\n",
    "> - get\n",
    "\n",
    "\n",
    "<font color=green>e.g :</font>\n",
    "\n",
    "``` data.sample(4).iloc[:,6:10] ```\n",
    "\n",
    "``` data.filter(items=['country', 'date']).head(10).tail(3) ```\n",
    "\n",
    "``` data.loc[1200:1500,['country','month']] ```\n",
    "\n",
    "``` data.where(data['country']=='Anguilla') ```\n",
    "\n",
    "``` data[(data['country']=='Anguilla') & (data['month']=='07')] ```"
   ]
  },
  {
   "cell_type": "markdown",
   "metadata": {},
   "source": [
    "<hr />\n",
    "<font color=red size=5 id=\"t3\"> Task 3 :</font>\n",
    "\n",
    "Filter data with below conditions : \n",
    "- source_name  : World Health Organization\n",
    "- country      : Iran or Iraq\n",
    "- month        > 05"
   ]
  },
  {
   "cell_type": "code",
   "execution_count": null,
   "metadata": {},
   "outputs": [],
   "source": [
    "data[ (_____) & ((_____) | (_____)) & (______) ]"
   ]
  },
  {
   "cell_type": "markdown",
   "metadata": {},
   "source": [
    "<hr>"
   ]
  },
  {
   "cell_type": "markdown",
   "metadata": {},
   "source": [
    "#### Grouping data :\n",
    "> by using `dir(data)` we can find some useful methods :\n",
    "> - groupby\n",
    "\n",
    "> - .agg()\n",
    "> - .aggregate()\n",
    "> - .min()\n",
    "> - .max()\n",
    "> - .sum()\n",
    "> - .count()\n",
    "> - .value_counts() params: `normalize=True`\n",
    ">> counts the unique values in a series (best choice for chategorical data)"
   ]
  },
  {
   "cell_type": "code",
   "execution_count": 5,
   "metadata": {},
   "outputs": [
    {
     "data": {
      "text/html": [
       "<div>\n",
       "<style scoped>\n",
       "    .dataframe tbody tr th:only-of-type {\n",
       "        vertical-align: middle;\n",
       "    }\n",
       "\n",
       "    .dataframe tbody tr th {\n",
       "        vertical-align: top;\n",
       "    }\n",
       "\n",
       "    .dataframe thead th {\n",
       "        text-align: right;\n",
       "    }\n",
       "</style>\n",
       "<table border=\"1\" class=\"dataframe\">\n",
       "  <thead>\n",
       "    <tr style=\"text-align: right;\">\n",
       "      <th></th>\n",
       "      <th>iso_code</th>\n",
       "      <th>date</th>\n",
       "      <th>total_vaccinations</th>\n",
       "      <th>people_vaccinated</th>\n",
       "      <th>people_fully_vaccinated</th>\n",
       "      <th>daily_vaccinations_raw</th>\n",
       "      <th>daily_vaccinations</th>\n",
       "      <th>total_vaccinations_per_hundred</th>\n",
       "      <th>people_vaccinated_per_hundred</th>\n",
       "      <th>people_fully_vaccinated_per_hundred</th>\n",
       "      <th>daily_vaccinations_per_million</th>\n",
       "      <th>vaccines</th>\n",
       "      <th>source_name</th>\n",
       "      <th>source_website</th>\n",
       "      <th>month</th>\n",
       "    </tr>\n",
       "    <tr>\n",
       "      <th>country</th>\n",
       "      <th></th>\n",
       "      <th></th>\n",
       "      <th></th>\n",
       "      <th></th>\n",
       "      <th></th>\n",
       "      <th></th>\n",
       "      <th></th>\n",
       "      <th></th>\n",
       "      <th></th>\n",
       "      <th></th>\n",
       "      <th></th>\n",
       "      <th></th>\n",
       "      <th></th>\n",
       "      <th></th>\n",
       "      <th></th>\n",
       "    </tr>\n",
       "  </thead>\n",
       "  <tbody>\n",
       "    <tr>\n",
       "      <th>Afghanistan</th>\n",
       "      <td>AFG</td>\n",
       "      <td>2021-09-16</td>\n",
       "      <td>3133227.0</td>\n",
       "      <td>773002.0</td>\n",
       "      <td>430744.0</td>\n",
       "      <td>4015.0</td>\n",
       "      <td>72098.0</td>\n",
       "      <td>7.87</td>\n",
       "      <td>1.94</td>\n",
       "      <td>1.08</td>\n",
       "      <td>1810.0</td>\n",
       "      <td>Johnson&amp;Johnson, Oxford/AstraZeneca, Pfizer/Bi...</td>\n",
       "      <td>World Health Organization</td>\n",
       "      <td>https://app.powerbi.com/view?r=eyJrIjoiYTkyM2V...</td>\n",
       "      <td>09</td>\n",
       "    </tr>\n",
       "    <tr>\n",
       "      <th>Albania</th>\n",
       "      <td>ALB</td>\n",
       "      <td>2021-09-19</td>\n",
       "      <td>1649884.0</td>\n",
       "      <td>918307.0</td>\n",
       "      <td>731577.0</td>\n",
       "      <td>23655.0</td>\n",
       "      <td>17565.0</td>\n",
       "      <td>57.43</td>\n",
       "      <td>31.96</td>\n",
       "      <td>25.46</td>\n",
       "      <td>6114.0</td>\n",
       "      <td>Oxford/AstraZeneca, Pfizer/BioNTech, Sinovac, ...</td>\n",
       "      <td>Ministry of Health</td>\n",
       "      <td>https://shendetesia.gov.al/vaksinimi-anticovid...</td>\n",
       "      <td>09</td>\n",
       "    </tr>\n",
       "  </tbody>\n",
       "</table>\n",
       "</div>"
      ],
      "text/plain": [
       "            iso_code        date  total_vaccinations  people_vaccinated  \\\n",
       "country                                                                   \n",
       "Afghanistan      AFG  2021-09-16           3133227.0           773002.0   \n",
       "Albania          ALB  2021-09-19           1649884.0           918307.0   \n",
       "\n",
       "             people_fully_vaccinated  daily_vaccinations_raw  \\\n",
       "country                                                        \n",
       "Afghanistan                 430744.0                  4015.0   \n",
       "Albania                     731577.0                 23655.0   \n",
       "\n",
       "             daily_vaccinations  total_vaccinations_per_hundred  \\\n",
       "country                                                           \n",
       "Afghanistan             72098.0                            7.87   \n",
       "Albania                 17565.0                           57.43   \n",
       "\n",
       "             people_vaccinated_per_hundred  \\\n",
       "country                                      \n",
       "Afghanistan                           1.94   \n",
       "Albania                              31.96   \n",
       "\n",
       "             people_fully_vaccinated_per_hundred  \\\n",
       "country                                            \n",
       "Afghanistan                                 1.08   \n",
       "Albania                                    25.46   \n",
       "\n",
       "             daily_vaccinations_per_million  \\\n",
       "country                                       \n",
       "Afghanistan                          1810.0   \n",
       "Albania                              6114.0   \n",
       "\n",
       "                                                      vaccines  \\\n",
       "country                                                          \n",
       "Afghanistan  Johnson&Johnson, Oxford/AstraZeneca, Pfizer/Bi...   \n",
       "Albania      Oxford/AstraZeneca, Pfizer/BioNTech, Sinovac, ...   \n",
       "\n",
       "                           source_name  \\\n",
       "country                                  \n",
       "Afghanistan  World Health Organization   \n",
       "Albania             Ministry of Health   \n",
       "\n",
       "                                                source_website month  \n",
       "country                                                               \n",
       "Afghanistan  https://app.powerbi.com/view?r=eyJrIjoiYTkyM2V...    09  \n",
       "Albania      https://shendetesia.gov.al/vaksinimi-anticovid...    09  "
      ]
     },
     "execution_count": 5,
     "metadata": {},
     "output_type": "execute_result"
    }
   ],
   "source": [
    "data.groupby('country').max().head(2)"
   ]
  },
  {
   "cell_type": "markdown",
   "metadata": {},
   "source": [
    "<hr>"
   ]
  },
  {
   "cell_type": "markdown",
   "metadata": {},
   "source": [
    "### working with Log files :"
   ]
  },
  {
   "cell_type": "markdown",
   "metadata": {},
   "source": [
    "#### Take a loke at first line :"
   ]
  },
  {
   "cell_type": "code",
   "execution_count": 6,
   "metadata": {},
   "outputs": [
    {
     "name": "stdout",
     "output_type": "stream",
     "text": [
      "199.72.81.55 - - [01/Jul/1995:00:00:01 -0400] \"GET /history/apollo/ HTTP/1.0\" 200 6245\n",
      "\n"
     ]
    }
   ],
   "source": [
    "filename = 'web.log'\n",
    "with open(filename , mode='r') as file:\n",
    "    print(file.readline())"
   ]
  },
  {
   "cell_type": "markdown",
   "metadata": {},
   "source": [
    "<hr >\n",
    "\n",
    "<font size=3 color=purple> Is there any specific seperator between columns ? </font>\n",
    "\n",
    "<font size=3 color=purple> Can we use `pd.read_csv` with '&nbsp;&nbsp;' seperator ? </font>\n",
    "\n",
    "<font size=3 color=purple> Lets try  : </font>"
   ]
  },
  {
   "cell_type": "code",
   "execution_count": 7,
   "metadata": {},
   "outputs": [
    {
     "data": {
      "text/html": [
       "<div>\n",
       "<style scoped>\n",
       "    .dataframe tbody tr th:only-of-type {\n",
       "        vertical-align: middle;\n",
       "    }\n",
       "\n",
       "    .dataframe tbody tr th {\n",
       "        vertical-align: top;\n",
       "    }\n",
       "\n",
       "    .dataframe thead th {\n",
       "        text-align: right;\n",
       "    }\n",
       "</style>\n",
       "<table border=\"1\" class=\"dataframe\">\n",
       "  <thead>\n",
       "    <tr style=\"text-align: right;\">\n",
       "      <th></th>\n",
       "      <th></th>\n",
       "      <th></th>\n",
       "      <th>host</th>\n",
       "      <th>timestamp</th>\n",
       "      <th>method</th>\n",
       "      <th>status</th>\n",
       "      <th>content</th>\n",
       "    </tr>\n",
       "  </thead>\n",
       "  <tbody>\n",
       "    <tr>\n",
       "      <th>199.72.81.55</th>\n",
       "      <th>-</th>\n",
       "      <th>-</th>\n",
       "      <td>[01/Jul/1995:00:00:01</td>\n",
       "      <td>-0400]</td>\n",
       "      <td>GET /history/apollo/ HTTP/1.0</td>\n",
       "      <td>200</td>\n",
       "      <td>6245</td>\n",
       "    </tr>\n",
       "  </tbody>\n",
       "</table>\n",
       "</div>"
      ],
      "text/plain": [
       "                                   host timestamp  \\\n",
       "199.72.81.55 - -  [01/Jul/1995:00:00:01    -0400]   \n",
       "\n",
       "                                         method  status  content  \n",
       "199.72.81.55 - -  GET /history/apollo/ HTTP/1.0     200     6245  "
      ]
     },
     "execution_count": 7,
     "metadata": {},
     "output_type": "execute_result"
    }
   ],
   "source": [
    "web_log = pd.read_csv( \n",
    "    'web.log', \n",
    "    sep=' ', \n",
    "    encoding='latin-1', \n",
    "    header=None, \n",
    "    names=['host', 'timestamp','method','status','content'] \n",
    ")\n",
    "\n",
    "web_log.head(1)"
   ]
  },
  {
   "cell_type": "markdown",
   "metadata": {},
   "source": [
    "<hr />\n",
    "\n",
    "<font color=red size=5 id=\"t4\"> Task 4 :</font>\n",
    "\n",
    "\n",
    "<font size=5><b>Is there any  problem ? if yes describe it  and suggest a solution.</b></font>\n",
    "<!-- > there are several seperators , but there are various patterns -->\n",
    "<!-- > so we use <font color=red>Regex</font> -->\n"
   ]
  },
  {
   "cell_type": "markdown",
   "metadata": {},
   "source": [
    "<div dir=\"rtl\" lang=\"fa\" style=\"color:purple;font\">پاسخ خود را اینجا بنویسید</div>"
   ]
  },
  {
   "cell_type": "markdown",
   "metadata": {},
   "source": [
    "<hr>"
   ]
  },
  {
   "cell_type": "code",
   "execution_count": 8,
   "metadata": {},
   "outputs": [
    {
     "name": "stdout",
     "output_type": "stream",
     "text": [
      "199.72.81.55 \n",
      "unicomp6.unicomp.net \n",
      "199.120.110.21 \n",
      "burger.letters.com \n",
      "199.120.110.21 \n"
     ]
    }
   ],
   "source": [
    "import re\n",
    " \n",
    "log_file_path = r\"web.log\"\n",
    "host_pattern  = r'(^\\S+\\.[\\S+\\.]+\\S+)\\s'\n",
    "\n",
    "with open(log_file_path, \"r\") as file:\n",
    "    for line in file:\n",
    "        print([match for match in re.finditer(host_pattern, line, re.S)][0][0])"
   ]
  },
  {
   "cell_type": "markdown",
   "metadata": {},
   "source": [
    "<hr />"
   ]
  },
  {
   "cell_type": "markdown",
   "metadata": {},
   "source": [
    "![image.png](https://files.realpython.com/media/Build-a-Web-Scraper-With-Requests-and-Beautiful-Soup_Watermarked.37918fb3906c.jpg)"
   ]
  },
  {
   "cell_type": "markdown",
   "metadata": {},
   "source": [
    "## Data Collection :\n",
    "- \n",
    "- \n",
    "-"
   ]
  },
  {
   "cell_type": "markdown",
   "metadata": {},
   "source": [
    "<hr />"
   ]
  },
  {
   "cell_type": "markdown",
   "metadata": {},
   "source": [
    "![image.png](https://files.realpython.com/media/Pythonic-Data-Cleaning-With-Pandas-and-NumPy_Watermarked.0eccf29b6622.jpg)"
   ]
  },
  {
   "cell_type": "markdown",
   "metadata": {},
   "source": [
    "## Data cleaning :\n",
    "> by using `dir(data)` we can find some useful methods :\n",
    "> - .all()\n",
    "> - .any()\n",
    "> - .drop()\n",
    "> - .drop_duplicates()\n",
    "> - .dropna()\n",
    "> - .fillna()\n",
    "> - .isna()\n",
    "> - .isnull()\n",
    "> - .notna()\n",
    "> - .notnull()"
   ]
  },
  {
   "cell_type": "markdown",
   "metadata": {},
   "source": [
    "### Data Type  Constraints\n",
    "\n",
    "<font color=green>e.g :</font>\n",
    "\n",
    "``` data.dtypes ```\n",
    "\n",
    "``` assert data['country'].dtype == 'object' ```\n",
    "\n",
    "``` assert data['total_vaccinations'].dtype == 'int64' ```"
   ]
  },
  {
   "cell_type": "markdown",
   "metadata": {},
   "source": [
    "### Data Range  Constraints\n",
    "\n",
    "<font color=green>e.g :</font>\n",
    "\n",
    "``` assert data['date'].max() < datetime.date.today() ```"
   ]
  },
  {
   "cell_type": "markdown",
   "metadata": {},
   "source": [
    "<hr />\n",
    "<font color=red size=5 id=\"t5_2\"> Task 5_2 :</font>\n",
    "\n",
    "Check Data Range minimum condition for `total_vaccinations` column\n",
    "\n",
    "<!-- assert data['total_vaccinations'].min() >=0 -->"
   ]
  },
  {
   "cell_type": "code",
   "execution_count": null,
   "metadata": {},
   "outputs": [],
   "source": [
    "assert ..."
   ]
  },
  {
   "cell_type": "markdown",
   "metadata": {},
   "source": [
    "### Uniqueness Constraints\n",
    "\n",
    "<font color=green>e.g :</font>\n",
    "\n",
    "``` data[data.duplicated('country')].head(2) ```\n",
    "\n",
    "``` data.drop_duplicates(inplace=True) ```\n",
    "\n",
    "``` columns_list = ['country','daily_vaccinations_per_million','source_name']\n",
    "duplicated   = data[data.duplicated(subset=columns_list ,keep=False)].head(2) ```"
   ]
  },
  {
   "cell_type": "markdown",
   "metadata": {},
   "source": [
    "<hr />\n",
    "<font color=red size=5 id=\"t5\"> Task 5 :</font>\n",
    "\n",
    "Fill below code by peeking upper method list to clean `data` and strore that in new variable called `clean_data`\n",
    "- remove duplicated data\n",
    "- remove missing values"
   ]
  },
  {
   "cell_type": "code",
   "execution_count": null,
   "metadata": {},
   "outputs": [],
   "source": [
    "clean_data = data._______().______()"
   ]
  },
  {
   "cell_type": "markdown",
   "metadata": {},
   "source": [
    "which columns of `data` has missing value ?\n",
    "> Hint :\n",
    "> use `isna()` method to find each cell is missed ? and after use `.any(axis= )` to reduce dimention and at the end use `.sum()` to count True values (True:1 , False:0) .\n",
    "> - axis=1 is for rows\n",
    "> - axis=0 is for columns"
   ]
  },
  {
   "cell_type": "code",
   "execution_count": null,
   "metadata": {},
   "outputs": [],
   "source": [
    "data._____()._____(axis=0)._____()"
   ]
  },
  {
   "cell_type": "markdown",
   "metadata": {},
   "source": [
    "<hr>\n",
    "\n",
    "### Categorical Variables\n",
    "\n",
    "<font color=green>e.g :</font>\n",
    "\n",
    "``` data['country'].value_counts() params: normalize=True ```\n",
    "\n",
    "``` data.groupby('country').count() ```\n",
    "\n",
    "\n",
    "`death_rate = ['good', 'bad', 'worse']\n",
    "data['death_rate'] = data.total_vaccinations.astype('category', ordered=True, categories=death_rate)`\n",
    "\n",
    "``` data['country'] = data['country'].str.strip()  #for remove white space before & after of string column```\n",
    "\n",
    "``` data['country'] = data['country'].str.lower()  #make lowercase the string column```"
   ]
  },
  {
   "cell_type": "markdown",
   "metadata": {},
   "source": [
    "<hr />\n",
    "<font color=red size=5 id=\"t5\"> Task 5_3 :</font>\n",
    "\n",
    "Fill below code with ideas of upper examples:\n",
    "\n",
    "- split vaccines colummn of `data` as `splitted_vaccines`\n",
    "\n",
    "- make `first_vac` column by using index after the splitting.\n",
    "> hint: use `dir(data['vaccines'].str)` to see list of useful methods"
   ]
  },
  {
   "cell_type": "code",
   "execution_count": 35,
   "metadata": {},
   "outputs": [],
   "source": [
    "splitted_vaccines = data['vaccines']._____._____(',',expand=True)"
   ]
  },
  {
   "cell_type": "code",
   "execution_count": null,
   "metadata": {},
   "outputs": [],
   "source": [
    "data['first_vac'] = splitted_vaccines[___]"
   ]
  },
  {
   "cell_type": "markdown",
   "metadata": {},
   "source": [
    "### Membership Constraints\n",
    "\n",
    "\n",
    "> by using `dir(data)` we can find some useful methods :\n",
    "> - set()\n",
    "> - a.intersection(b)\n",
    "> - a.union(b)\n",
    "> - a.difference(b)\n",
    "> - a.symmetric_difference(b)\n",
    "> - a.isin(b)"
   ]
  },
  {
   "cell_type": "markdown",
   "metadata": {},
   "source": [
    "<hr />\n",
    "<font color=red size=5 id=\"t5\"> Task 5_4 :</font>\n",
    "\n",
    "use set operator for:\n",
    "\n",
    "- make a set of all vaccines name as `all_vaccines`\n",
    "> hint: iterate on columns add union each set of them\n",
    "\n",
    "- is there any vaccines in `all_vaccines` set that doesn't represent in `first_vac` ?"
   ]
  },
  {
   "cell_type": "code",
   "execution_count": null,
   "metadata": {},
   "outputs": [],
   "source": [
    "all_vaccines = set()\n",
    "\n",
    "for i in splitted_vaccines: #loop column\n",
    "    \n",
    "    all_vaccines = all_vaccines.______(______(splitted_vaccines[i]))\n",
    "    \n",
    "print(all_vaccines)"
   ]
  },
  {
   "cell_type": "code",
   "execution_count": null,
   "metadata": {},
   "outputs": [],
   "source": [
    "all_vaccines._______(_____(data['first_vac']))"
   ]
  },
  {
   "cell_type": "markdown",
   "metadata": {},
   "source": [
    "### Cleaning Text Data"
   ]
  },
  {
   "cell_type": "markdown",
   "metadata": {},
   "source": [
    "<hr />\n",
    "<font color=red size=5 id=\"t5\"> Task 5_5 :</font>\n",
    "\n",
    "by using `set` operation and `str` method:\n",
    "\n",
    "- extract all unique domain names\n",
    "> - remove protocol <br>\n",
    "> - remove subdomain (just `www.`)\n",
    "> - remove page path"
   ]
  },
  {
   "cell_type": "markdown",
   "metadata": {},
   "source": [
    "![image.png](https://blog.hubspot.com/hs-fs/hubfs/anatomy-of-web-address.jpg?width=600&name=anatomy-of-web-address.jpg)"
   ]
  },
  {
   "cell_type": "code",
   "execution_count": 87,
   "metadata": {},
   "outputs": [],
   "source": [
    "web_sites = data.source_website.str.replace('https://',___).str.replace(______,____).str.____('/',expand=True)[0]\n",
    "\n",
    "___(web_sites)"
   ]
  },
  {
   "cell_type": "markdown",
   "metadata": {},
   "source": [
    "### Uniformity\n",
    " when we face various format or scale in a column:\n",
    " \n",
    "<font color=green>e.g :</font>\n",
    "\n",
    "``` date column has various formats  ```\n",
    "\n",
    "``` total_vaccinations scale is different ```"
   ]
  },
  {
   "cell_type": "code",
   "execution_count": 220,
   "metadata": {},
   "outputs": [
    {
     "data": {
      "text/html": [
       "<div>\n",
       "<style scoped>\n",
       "    .dataframe tbody tr th:only-of-type {\n",
       "        vertical-align: middle;\n",
       "    }\n",
       "\n",
       "    .dataframe tbody tr th {\n",
       "        vertical-align: top;\n",
       "    }\n",
       "\n",
       "    .dataframe thead th {\n",
       "        text-align: right;\n",
       "    }\n",
       "</style>\n",
       "<table border=\"1\" class=\"dataframe\">\n",
       "  <thead>\n",
       "    <tr style=\"text-align: right;\">\n",
       "      <th></th>\n",
       "      <th>Unnamed: 0</th>\n",
       "      <th>country</th>\n",
       "      <th>iso_code</th>\n",
       "      <th>date</th>\n",
       "      <th>total_vaccinations</th>\n",
       "      <th>vaccines</th>\n",
       "      <th>source_name</th>\n",
       "      <th>source_website</th>\n",
       "    </tr>\n",
       "  </thead>\n",
       "  <tbody>\n",
       "    <tr>\n",
       "      <th>0</th>\n",
       "      <td>18480</td>\n",
       "      <td>Iceland</td>\n",
       "      <td>ISL</td>\n",
       "      <td>30/12/2020</td>\n",
       "      <td>4875.000</td>\n",
       "      <td>Johnson&amp;Johnson, Moderna, Oxford/AstraZeneca, ...</td>\n",
       "      <td>Directorate of Health</td>\n",
       "      <td>https://www.covid.is/tolulegar-upplysingar-bol...</td>\n",
       "    </tr>\n",
       "    <tr>\n",
       "      <th>1</th>\n",
       "      <td>19243</td>\n",
       "      <td>Iran</td>\n",
       "      <td>IRN</td>\n",
       "      <td>02/08/2021</td>\n",
       "      <td>1.756</td>\n",
       "      <td>COVIran Barekat, Covaxin, Oxford/AstraZeneca, ...</td>\n",
       "      <td>World Health Organization</td>\n",
       "      <td>https://covid19.who.int/</td>\n",
       "    </tr>\n",
       "    <tr>\n",
       "      <th>2</th>\n",
       "      <td>24589</td>\n",
       "      <td>Macao</td>\n",
       "      <td>MAC</td>\n",
       "      <td>08/02/2021</td>\n",
       "      <td>1.029</td>\n",
       "      <td>Pfizer/BioNTech, Sinopharm/Beijing</td>\n",
       "      <td>Government of Macao</td>\n",
       "      <td>https://www.gov.mo/zh-hant/news/814428/</td>\n",
       "    </tr>\n",
       "    <tr>\n",
       "      <th>3</th>\n",
       "      <td>1107</td>\n",
       "      <td>Anguilla</td>\n",
       "      <td>AIA</td>\n",
       "      <td>2021-02-04 00:00:00</td>\n",
       "      <td>1.825</td>\n",
       "      <td>Oxford/AstraZeneca</td>\n",
       "      <td>World Health Organization</td>\n",
       "      <td>https://ais.paho.org/imm/IM_DosisAdmin-Vacunac...</td>\n",
       "    </tr>\n",
       "    <tr>\n",
       "      <th>4</th>\n",
       "      <td>8976</td>\n",
       "      <td>Congo</td>\n",
       "      <td>COG</td>\n",
       "      <td>2021-04-14 00:00:00</td>\n",
       "      <td>14297.000</td>\n",
       "      <td>Moderna, Oxford/AstraZeneca, Sinopharm/Beijing...</td>\n",
       "      <td>Africa Centres for Disease Control and Prevention</td>\n",
       "      <td>https://africacdc.org/covid-19-vaccination/</td>\n",
       "    </tr>\n",
       "  </tbody>\n",
       "</table>\n",
       "</div>"
      ],
      "text/plain": [
       "   Unnamed: 0   country iso_code                 date  total_vaccinations  \\\n",
       "0       18480   Iceland      ISL           30/12/2020            4875.000   \n",
       "1       19243      Iran      IRN           02/08/2021               1.756   \n",
       "2       24589     Macao      MAC           08/02/2021               1.029   \n",
       "3        1107  Anguilla      AIA  2021-02-04 00:00:00               1.825   \n",
       "4        8976     Congo      COG  2021-04-14 00:00:00           14297.000   \n",
       "\n",
       "                                            vaccines  \\\n",
       "0  Johnson&Johnson, Moderna, Oxford/AstraZeneca, ...   \n",
       "1  COVIran Barekat, Covaxin, Oxford/AstraZeneca, ...   \n",
       "2                 Pfizer/BioNTech, Sinopharm/Beijing   \n",
       "3                                 Oxford/AstraZeneca   \n",
       "4  Moderna, Oxford/AstraZeneca, Sinopharm/Beijing...   \n",
       "\n",
       "                                         source_name  \\\n",
       "0                              Directorate of Health   \n",
       "1                          World Health Organization   \n",
       "2                                Government of Macao   \n",
       "3                          World Health Organization   \n",
       "4  Africa Centres for Disease Control and Prevention   \n",
       "\n",
       "                                      source_website  \n",
       "0  https://www.covid.is/tolulegar-upplysingar-bol...  \n",
       "1                           https://covid19.who.int/  \n",
       "2            https://www.gov.mo/zh-hant/news/814428/  \n",
       "3  https://ais.paho.org/imm/IM_DosisAdmin-Vacunac...  \n",
       "4        https://africacdc.org/covid-19-vaccination/  "
      ]
     },
     "execution_count": 220,
     "metadata": {},
     "output_type": "execute_result"
    }
   ],
   "source": [
    "covid_Uniformity = pd.read_csv('covid_Uniformity.csv')\n",
    "covid_Uniformity"
   ]
  },
  {
   "cell_type": "markdown",
   "metadata": {},
   "source": [
    "<hr />\n",
    "<font color=red size=5 id=\"t5\"> Task 5_6 :</font>\n",
    "\n",
    "> - make a unique format for date <br>\n",
    "> - rescale rows with a value of per thousand of `total_vaccinations` "
   ]
  },
  {
   "cell_type": "code",
   "execution_count": 223,
   "metadata": {},
   "outputs": [],
   "source": [
    "covid_Uniformity['_____'] = pd.to_datetime(covid_Uniformity['______'])\n",
    "\n",
    "TV_per_thousand = covid_Uniformity.loc[covid_Uniformity['total_vaccinations']<_____,'total_vaccinations']\n",
    "\n",
    "covid_Uniformity.loc[covid_Uniformity['total_vaccinations']<_____,'total_vaccinations'] = TV_per_thousand *_____\n",
    "\n",
    "covid_Uniformity"
   ]
  },
  {
   "cell_type": "markdown",
   "metadata": {},
   "source": [
    "### Completness\n",
    "\n",
    "> by using `dir(data)` we can find some useful methods :\n",
    "> - isna\n",
    "> - fillna\n",
    "> - dropna"
   ]
  },
  {
   "cell_type": "code",
   "execution_count": 240,
   "metadata": {},
   "outputs": [],
   "source": [
    "# !conda install missingno\n",
    "import missingno as mnso"
   ]
  },
  {
   "cell_type": "code",
   "execution_count": 241,
   "metadata": {},
   "outputs": [
    {
     "data": {
      "image/png": "[encoded data removed]",
      "text/plain": [
       "<Figure size 1800x720 with 2 Axes>"
      ]
     },
     "metadata": {
      "needs_background": "light"
     },
     "output_type": "display_data"
    }
   ],
   "source": [
    "mnso.matrix(data)\n",
    "plt.show()"
   ]
  },
  {
   "cell_type": "code",
   "execution_count": 251,
   "metadata": {},
   "outputs": [
    {
     "data": {
      "image/png": "[encoded data removed]",
      "text/plain": [
       "<Figure size 1800x720 with 2 Axes>"
      ]
     },
     "metadata": {
      "needs_background": "light"
     },
     "output_type": "display_data"
    }
   ],
   "source": [
    "mnso.matrix(data.sort_values(by=['people_vaccinated']))\n",
    "plt.show()"
   ]
  },
  {
   "cell_type": "markdown",
   "metadata": {},
   "source": [
    "<hr />\n",
    "<font color=red size=5 id=\"t5\"> Task 5_7 :</font>\n",
    "\n",
    "complete below code to fill missing values.\n",
    "> you can use `mean` or `median` or `mode`"
   ]
  },
  {
   "cell_type": "code",
   "execution_count": 254,
   "metadata": {},
   "outputs": [],
   "source": [
    "mode_complete_data    = data.copy()\n",
    "\n",
    "columns               = ['total_vaccinations','people_vaccinated','people_fully_vaccinated',\n",
    "                         'daily_vaccinations_raw', 'daily_vaccinations','total_vaccinations_per_hundred', \n",
    "                         'people_vaccinated_per_hundred','people_fully_vaccinated_per_hundred']\n",
    "\n",
    "mode_complete_data[columns] = mode_complete_data[columns].fillna(mode_complete_data._____().iloc[0])"
   ]
  },
  {
   "cell_type": "code",
   "execution_count": 256,
   "metadata": {},
   "outputs": [
    {
     "data": {
      "image/png": "[encoded data removed]",
      "text/plain": [
       "<Figure size 1800x720 with 2 Axes>"
      ]
     },
     "metadata": {
      "needs_background": "light"
     },
     "output_type": "display_data"
    }
   ],
   "source": [
    "mnso.matrix(mode_complete_data)\n",
    "plt.show();"
   ]
  },
  {
   "cell_type": "markdown",
   "metadata": {},
   "source": [
    "<hr />\n",
    "<font color=red size=5 id=\"t5\"> Task 5_7 :</font>\n",
    "\n",
    "Was what we did right (fill missing values)? why? explain."
   ]
  },
  {
   "cell_type": "markdown",
   "metadata": {},
   "source": [
    "<div dir=\"rtl\" lang=\"fa\" style=\"color:purple;font\">پاسخ خود را اینجا بنویسید</div>"
   ]
  },
  {
   "cell_type": "markdown",
   "metadata": {},
   "source": [
    "<hr />"
   ]
  },
  {
   "cell_type": "markdown",
   "metadata": {},
   "source": [
    "![image.png](https://files.realpython.com/media/Descriptive-Statistics-in-Python_Watermarked.fec81e9a41f9.jpg)"
   ]
  },
  {
   "cell_type": "markdown",
   "metadata": {},
   "source": [
    "## Data statistics :\n",
    "> by using `dir(data)` we can find some useful methods :\n",
    "> - .describe()\n",
    "> - .dtypes()\n",
    "> - .info()\n",
    "\n",
    "\n",
    "> - .count()\n",
    "> - .corr()\n",
    "> - .corrwith()\n",
    "> - .cov()\n",
    "> - .idxmax()\n",
    "> - .idxmin()\n",
    "> - .max()\n",
    "> - .mean()\n",
    "> - .median()\n",
    "> - .min()\n",
    "> - .mode()\n",
    "> - .std()\n",
    "> - .quantile()\n",
    "> - .skew()"
   ]
  },
  {
   "cell_type": "markdown",
   "metadata": {},
   "source": [
    "### scipy Vs numpy\n",
    "\n",
    "- percentile\n",
    "- quantile\n",
    "- covariance\n",
    "- Pearson correlation coefficient"
   ]
  },
  {
   "cell_type": "markdown",
   "metadata": {},
   "source": [
    "### CDF vs ECDF"
   ]
  },
  {
   "cell_type": "markdown",
   "metadata": {},
   "source": [
    "A CDF is a theoretical for a certain population. while an ECDF is based on the data itself"
   ]
  },
  {
   "cell_type": "markdown",
   "metadata": {},
   "source": [
    "### Distributions\n",
    "- When we have rare events (low p, high n), the Binomial distribution is Poisson. This has a single parameter, the mean number of successes per time interval"
   ]
  },
  {
   "cell_type": "markdown",
   "metadata": {},
   "source": [
    "<hr />\n",
    "<font color=red size=5 id=\"t6\"> Task 6 :</font>\n",
    "\n",
    "report statistics on `data` columns"
   ]
  },
  {
   "cell_type": "code",
   "execution_count": null,
   "metadata": {},
   "outputs": [],
   "source": [
    "data.________()"
   ]
  },
  {
   "cell_type": "markdown",
   "metadata": {},
   "source": [
    "<hr>"
   ]
  },
  {
   "cell_type": "markdown",
   "metadata": {},
   "source": [
    "![image.png](https://files.realpython.com/media/Merging-Joining-and-Concatenating-in-Pandas_Watermarked_1.e45698a508a4.jpg)"
   ]
  },
  {
   "cell_type": "markdown",
   "metadata": {},
   "source": [
    "## Data manipulation :\n",
    "> by using `dir(data)` we can find some useful methods :\n",
    "> - .merge()\n",
    "> - .concat()\n",
    "> - .pivot_table()\n",
    "> - .pivot()\n",
    "> - .melt()\n",
    "> - .unmelt()\n",
    "> - .crosstab()\n",
    "> - .cut()\n",
    "> - .unstack()"
   ]
  },
  {
   "cell_type": "markdown",
   "metadata": {},
   "source": [
    "<hr />\n",
    "<font color=red size=5 id=\"t7\"> Task 7 :</font>\n",
    "\n",
    "fill below code to merge Iran vs Iraq on date"
   ]
  },
  {
   "cell_type": "code",
   "execution_count": null,
   "metadata": {},
   "outputs": [],
   "source": [
    "ir = data[data['country']=='Iran'][['country','date','daily_vaccinations_per_million']].copy()\n",
    "iq = data[data['country']=='Iraq'][['country','date','daily_vaccinations_per_million']].copy()\n",
    "\n",
    "pd.merge(____ , _____, on='date' ,how='inner',suffixes=('_ir', '_iq'))"
   ]
  },
  {
   "cell_type": "markdown",
   "metadata": {},
   "source": [
    "<hr>"
   ]
  },
  {
   "cell_type": "markdown",
   "metadata": {},
   "source": [
    "![image.png](https://files.realpython.com/media/Python-Tricks-Chapter-on-Data-Structures_Watermarked.bafeb804a9db.jpg)"
   ]
  },
  {
   "cell_type": "markdown",
   "metadata": {},
   "source": [
    "## Exploratory data analysis (EDA)\n",
    "> The process of organazing , plotting and summarizing a dataset <br>\n",
    "> *__\"Exploratory data analysis can never be the whole story,but nothing else can serve as the foundation stone.as the first step\" <br>\n",
    "[John W.Tukey](https://cloudflare-ipfs.com/ipfs/bafykbzaceczh77hnsblk4gytrqztobwmsa25au5du5wgwkp4kpkrznrgl5eqg?filename=John%20W.%20Tukey%20-%20Exploratory%20Data%20Analysis-Addison%20Wesley%20%281977%29.pdf) page:23__* <br>"
   ]
  },
  {
   "cell_type": "markdown",
   "metadata": {},
   "source": [
    "<hr />"
   ]
  },
  {
   "cell_type": "markdown",
   "metadata": {},
   "source": [
    "![image.png](https://files.realpython.com/media/How-to-Plot-With-Pandas_Watermarked.f283f64b4ae3.jpg)"
   ]
  },
  {
   "cell_type": "markdown",
   "metadata": {},
   "source": [
    "## Data visualization :\n",
    "> by using `dir(data)` we can find some useful methods :\n",
    "> - .plot()\n",
    "> - .hist()\n",
    "> - .boxplot()\n",
    "\n",
    "[some example](https://pandas.pydata.org/docs/reference/api/pandas.DataFrame.plot.html)"
   ]
  },
  {
   "cell_type": "markdown",
   "metadata": {},
   "source": [
    "<hr />\n",
    "<font color=red size=5 id=\"t8\"> Task 8 :</font>\n",
    "\n",
    "Fill below code by a numeric column"
   ]
  },
  {
   "cell_type": "code",
   "execution_count": null,
   "metadata": {},
   "outputs": [],
   "source": [
    "data.groupby('country').sum()['_________'].plot();"
   ]
  },
  {
   "cell_type": "code",
   "execution_count": null,
   "metadata": {},
   "outputs": [],
   "source": [
    "data[data['country']=='Jersey'].loc[:,['date','people_vaccinated']].hist();"
   ]
  },
  {
   "cell_type": "markdown",
   "metadata": {},
   "source": [
    "<hr>\n",
    "<font size=3 color=purple>You can also use matplotlib to for abow plots</font>"
   ]
  },
  {
   "cell_type": "code",
   "execution_count": 9,
   "metadata": {},
   "outputs": [
    {
     "data": {
      "image/png": "[encoded data removed]",
      "text/plain": [
       "<Figure size 1296x432 with 1 Axes>"
      ]
     },
     "metadata": {
      "needs_background": "light"
     },
     "output_type": "display_data"
    }
   ],
   "source": [
    "Lebanon = data[(data['country']=='Lebanon') & (data['date']> '2021-03-15') & (data['date'] < '2021-04-15')]\n",
    "Lebanon = Lebanon.loc[:,['date','daily_vaccinations']]\n",
    "plt.figure(figsize=[18,6])\n",
    "plt.plot(Lebanon['date'].str[5:],Lebanon['daily_vaccinations'])\n",
    "plt.title(\"Lebanon daily covid vaccinations from 3-16 to 4-14 of 2021\")\n",
    "plt.xlabel('date')\n",
    "plt.ylabel('vaccine doses')\n",
    "plt.xticks(rotation=45);"
   ]
  },
  {
   "cell_type": "markdown",
   "metadata": {},
   "source": [
    "<hr>\n",
    "\n",
    "## Attachment (useful links)\n",
    "- https://pandas.pydata.org/\n",
    "- https://realpython.com/\n",
    "- https://www.hackerrank.com/\n",
    "- https://www.data.gov/\n",
    "\n",
    "<hr>\n",
    "<font size=4 color=DarkSeaGreen>$Keep$ $faith$  $in$  $yourself$  $and$  $trust$  $the$  $process$  $...$</font>"
   ]
  }
 ],
 "metadata": {
  "kernelspec": {
   "display_name": "Python 3",
   "language": "python",
   "name": "python3"
  },
  "language_info": {
   "codemirror_mode": {
    "name": "ipython",
    "version": 3
   },
   "file_extension": ".py",
   "mimetype": "text/x-python",
   "name": "python",
   "nbconvert_exporter": "python",
   "pygments_lexer": "ipython3",
   "version": "3.8.10"
  }
 },
 "nbformat": 4,
 "nbformat_minor": 2
}
